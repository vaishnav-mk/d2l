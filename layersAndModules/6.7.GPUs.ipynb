{
  "nbformat": 4,
  "nbformat_minor": 0,
  "metadata": {
    "colab": {
      "provenance": [],
      "gpuType": "T4"
    },
    "kernelspec": {
      "name": "python3",
      "display_name": "Python 3"
    },
    "language_info": {
      "name": "python"
    },
    "accelerator": "GPU"
  },
  "cells": [
    {
      "cell_type": "code",
      "source": [
        "import torch\n",
        "from torch import nn\n",
        "from d2l import torch as d2l"
      ],
      "metadata": {
        "id": "bNWlLXIou4zT"
      },
      "execution_count": 2,
      "outputs": []
    },
    {
      "cell_type": "code",
      "source": [
        "def cpu():\n",
        "    \"\"\"Get the CPU device.\"\"\"\n",
        "    return torch.device('cpu')\n",
        "\n",
        "def gpu(i=0):\n",
        "    \"\"\"Get a GPU device.\"\"\"\n",
        "    return torch.device(f'cuda:{i}')\n",
        "\n",
        "cpu(), gpu(), gpu(1)"
      ],
      "metadata": {
        "colab": {
          "base_uri": "https://localhost:8080/"
        },
        "id": "vO3LMlOJvHkU",
        "outputId": "5b753bf2-4b04-4ca8-bb39-c60f8bf027d1"
      },
      "execution_count": 5,
      "outputs": [
        {
          "output_type": "execute_result",
          "data": {
            "text/plain": [
              "(device(type='cpu'),\n",
              " device(type='cuda', index=0),\n",
              " device(type='cuda', index=1))"
            ]
          },
          "metadata": {},
          "execution_count": 5
        }
      ]
    },
    {
      "cell_type": "code",
      "source": [
        "def num_gpus():\n",
        "    \"\"\"Get the number of available GPUs.\"\"\"\n",
        "    return torch.cuda.device_count()\n",
        "\n",
        "num_gpus()"
      ],
      "metadata": {
        "colab": {
          "base_uri": "https://localhost:8080/"
        },
        "id": "xu5v4rFGvbni",
        "outputId": "7c056128-24ad-4e41-d062-bd95acc2c594"
      },
      "execution_count": 7,
      "outputs": [
        {
          "output_type": "execute_result",
          "data": {
            "text/plain": [
              "1"
            ]
          },
          "metadata": {},
          "execution_count": 7
        }
      ]
    },
    {
      "cell_type": "code",
      "source": [
        "def try_gpu(i=0):\n",
        "    \"\"\"Return gpu(i) if exists, otherwise return cpu().\"\"\"\n",
        "    if num_gpus() >= i + 1:\n",
        "        return gpu(i)\n",
        "    return cpu()\n",
        "\n",
        "def try_all_gpus():\n",
        "    \"\"\"Return all available GPUs, or [cpu(),] if no GPU exists.\"\"\"\n",
        "    return [gpu(i) for i in range(num_gpus())]\n",
        "\n",
        "try_gpu(), try_gpu(10), try_all_gpus()"
      ],
      "metadata": {
        "colab": {
          "base_uri": "https://localhost:8080/"
        },
        "id": "XUgfHCdyvgcX",
        "outputId": "1277a474-b37c-4275-873f-b8ad72d4cf21"
      },
      "execution_count": 8,
      "outputs": [
        {
          "output_type": "execute_result",
          "data": {
            "text/plain": [
              "(device(type='cuda', index=0),\n",
              " device(type='cpu'),\n",
              " [device(type='cuda', index=0)])"
            ]
          },
          "metadata": {},
          "execution_count": 8
        }
      ]
    },
    {
      "cell_type": "markdown",
      "source": [
        "## Tensors and GPUs"
      ],
      "metadata": {
        "id": "RLiFP-xUvxOs"
      }
    },
    {
      "cell_type": "code",
      "source": [
        "x = torch.tensor([1, 2, 3])\n",
        "x.device"
      ],
      "metadata": {
        "colab": {
          "base_uri": "https://localhost:8080/"
        },
        "id": "m11VCdPKvyXC",
        "outputId": "f37c8e45-a8e7-4f4b-8ff1-fb33b490da00"
      },
      "execution_count": 9,
      "outputs": [
        {
          "output_type": "execute_result",
          "data": {
            "text/plain": [
              "device(type='cpu')"
            ]
          },
          "metadata": {},
          "execution_count": 9
        }
      ]
    },
    {
      "cell_type": "markdown",
      "source": [
        "## Storage on GPU"
      ],
      "metadata": {
        "id": "EBa4VWS5v7aI"
      }
    },
    {
      "cell_type": "code",
      "source": [
        "X = torch.ones(2, 3, device=try_gpu())\n",
        "X"
      ],
      "metadata": {
        "colab": {
          "base_uri": "https://localhost:8080/"
        },
        "id": "7esE8Vgnv-Dy",
        "outputId": "49a3fe79-60ae-4771-c5d9-5a264cc485a7"
      },
      "execution_count": 10,
      "outputs": [
        {
          "output_type": "execute_result",
          "data": {
            "text/plain": [
              "tensor([[1., 1., 1.],\n",
              "        [1., 1., 1.]], device='cuda:0')"
            ]
          },
          "metadata": {},
          "execution_count": 10
        }
      ]
    },
    {
      "cell_type": "code",
      "source": [
        "Y = torch.rand(2, 3, device=try_gpu(1))\n",
        "Y"
      ],
      "metadata": {
        "colab": {
          "base_uri": "https://localhost:8080/"
        },
        "id": "syhXJMGxwFr4",
        "outputId": "45f25c87-1be5-43be-a44f-45d4cefbcce8"
      },
      "execution_count": 11,
      "outputs": [
        {
          "output_type": "execute_result",
          "data": {
            "text/plain": [
              "tensor([[0.1418, 0.7590, 0.3286],\n",
              "        [0.3954, 0.9758, 0.5319]])"
            ]
          },
          "metadata": {},
          "execution_count": 11
        }
      ]
    },
    {
      "cell_type": "markdown",
      "source": [
        "## Copying"
      ],
      "metadata": {
        "id": "ehVFaj1owKe1"
      }
    },
    {
      "cell_type": "code",
      "source": [
        "Z = X.cuda(0)\n",
        "print(X)\n",
        "print(Z)"
      ],
      "metadata": {
        "colab": {
          "base_uri": "https://localhost:8080/"
        },
        "id": "OjZw9VfUwZx7",
        "outputId": "11eae612-d033-4fe0-bd89-eb9f25a31ba9"
      },
      "execution_count": 13,
      "outputs": [
        {
          "output_type": "stream",
          "name": "stdout",
          "text": [
            "tensor([[1., 1., 1.],\n",
            "        [1., 1., 1.]], device='cuda:0')\n",
            "tensor([[1., 1., 1.],\n",
            "        [1., 1., 1.]], device='cuda:0')\n"
          ]
        }
      ]
    },
    {
      "cell_type": "markdown",
      "source": [
        "Neural Nets and GPUs"
      ],
      "metadata": {
        "id": "xIp3CBDFwjs1"
      }
    },
    {
      "cell_type": "code",
      "source": [
        "net = nn.Sequential(nn.LazyLinear(1))\n",
        "net = net.to(device=try_gpu())"
      ],
      "metadata": {
        "id": "wTTNedtCwlGG"
      },
      "execution_count": 15,
      "outputs": []
    },
    {
      "cell_type": "code",
      "source": [
        "net(X)"
      ],
      "metadata": {
        "colab": {
          "base_uri": "https://localhost:8080/"
        },
        "id": "CjpwoeSfwmt8",
        "outputId": "fea90dbd-f831-40c6-8fc6-d92216e0b5cd"
      },
      "execution_count": 16,
      "outputs": [
        {
          "output_type": "execute_result",
          "data": {
            "text/plain": [
              "tensor([[0.4241],\n",
              "        [0.4241]], device='cuda:0', grad_fn=<AddmmBackward0>)"
            ]
          },
          "metadata": {},
          "execution_count": 16
        }
      ]
    },
    {
      "cell_type": "code",
      "source": [
        "net[0].weight.data.device"
      ],
      "metadata": {
        "colab": {
          "base_uri": "https://localhost:8080/"
        },
        "id": "dGc8PvgOwovf",
        "outputId": "2e73d9fd-5611-491e-d44e-3abeb21f6fe2"
      },
      "execution_count": 17,
      "outputs": [
        {
          "output_type": "execute_result",
          "data": {
            "text/plain": [
              "device(type='cuda', index=0)"
            ]
          },
          "metadata": {},
          "execution_count": 17
        }
      ]
    },
    {
      "cell_type": "code",
      "source": [
        "@d2l.add_to_class(d2l.Trainer)\n",
        "def __init__(self, max_epochs, num_gpus=0, gradient_clip_val=0):\n",
        "    self.save_hyperparameters()\n",
        "    self.gpus = [d2l.gpu(i) for i in range(min(num_gpus, d2l.num_gpus()))]\n",
        "\n",
        "@d2l.add_to_class(d2l.Trainer)\n",
        "def prepare_batch(self, batch):\n",
        "    if self.gpus:\n",
        "        batch = [a.to(self.gpus[0]) for a in batch]\n",
        "    return batch\n",
        "\n",
        "@d2l.add_to_class(d2l.Trainer)\n",
        "def prepare_model(self, model):\n",
        "    model.trainer = self\n",
        "    model.board.xlim = [0, self.max_epochs]\n",
        "    if self.gpus:\n",
        "        model.to(self.gpus[0])\n",
        "    self.model = model"
      ],
      "metadata": {
        "id": "MhJIbxhpwqyz"
      },
      "execution_count": 19,
      "outputs": []
    }
  ]
}